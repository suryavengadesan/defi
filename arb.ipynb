{
 "cells": [
  {
   "cell_type": "markdown",
   "id": "13539125-f384-4729-8309-7a79dcc43e0b",
   "metadata": {},
   "source": [
    "## DeFi arbitrage"
   ]
  },
  {
   "cell_type": "code",
   "execution_count": 1,
   "id": "c0545a05-6667-46fb-8f5f-bd841feca94a",
   "metadata": {},
   "outputs": [
    {
     "name": "stdout",
     "output_type": "stream",
     "text": [
      "NO ASK AVAILABLE\n",
      "NO BID AVAILABLE\n",
      "NO EXCHANGE\n",
      "{'from': 'USDC', 'to': 'MATIC', 'exchange_rate': 1.2987012}\n",
      "{'from': 'USDC', 'to': 'MATIC', 'exchange_rate': 1.2987012}\n",
      "{'from': 'USDC', 'to': 'MATIC', 'exchange_rate': 1.2987012}\n"
     ]
    }
   ],
   "source": [
    "import numpy as np\n",
    "import pandas as pd\n",
    "import matplotlib.pyplot as plt\n",
    "\n",
    "from fetch import *\n",
    "from one_inch_fetch import *\n",
    "from arb import *\n",
    "from constants import *"
   ]
  },
  {
   "cell_type": "code",
   "execution_count": 2,
   "id": "4f40f853-9cff-4154-b53e-31d1378140c8",
   "metadata": {},
   "outputs": [],
   "source": [
    "df_WETH = pd.DataFrame(columns=['# of arbitrage', 'total orders', '% of arbitrage'])\n",
    "df_WBTC = df_WETH.copy()\n",
    "df_BNB = df_WETH.copy()\n",
    "df_MATIC = df_WETH.copy()\n",
    "df_SHIBA = df_WETH.copy()\n",
    "df_USDC = df_WETH.copy()\n",
    "df_USDT = df_WETH.copy()\n",
    "df_DAI = df_WETH.copy()"
   ]
  },
  {
   "cell_type": "code",
   "execution_count": 3,
   "id": "f8b11590-7b91-4b3c-9681-5dc1c0ce5edd",
   "metadata": {},
   "outputs": [
    {
     "name": "stdout",
     "output_type": "stream",
     "text": [
      "Wall time: 17.7 s\n"
     ]
    }
   ],
   "source": [
    "%%time\n",
    "### WETH\n",
    "df_WETH.loc['USDC'] = arb(WETH, USDC, ethereum, limit)\n",
    "df_WETH.loc['USDT'] = arb(WETH, USDT, ethereum, limit)\n",
    "df_WETH.loc['DAI'] = arb(WETH, DAI, ethereum, limit)\n",
    "# arb(WETH, WBTC, ethereum, limit)\n",
    "df_WETH.loc['BNB'] = arb(WETH, BNB, ethereum, limit)\n",
    "# arb(WETH, MATIC, ethereum, limit)\n",
    "# arb(WETH, SHIBA, ethereum, limit)"
   ]
  },
  {
   "cell_type": "code",
   "execution_count": 4,
   "id": "abfce081-f149-4d45-9207-e29f5d6ee268",
   "metadata": {},
   "outputs": [
    {
     "name": "stdout",
     "output_type": "stream",
     "text": [
      "Use WETH to buy following tokens low in 1inch and sell high at 0x\n"
     ]
    },
    {
     "data": {
      "text/html": [
       "<div>\n",
       "<style scoped>\n",
       "    .dataframe tbody tr th:only-of-type {\n",
       "        vertical-align: middle;\n",
       "    }\n",
       "\n",
       "    .dataframe tbody tr th {\n",
       "        vertical-align: top;\n",
       "    }\n",
       "\n",
       "    .dataframe thead th {\n",
       "        text-align: right;\n",
       "    }\n",
       "</style>\n",
       "<table border=\"1\" class=\"dataframe\">\n",
       "  <thead>\n",
       "    <tr style=\"text-align: right;\">\n",
       "      <th></th>\n",
       "      <th># of arbitrage</th>\n",
       "      <th>total orders</th>\n",
       "      <th>% of arbitrage</th>\n",
       "    </tr>\n",
       "  </thead>\n",
       "  <tbody>\n",
       "    <tr>\n",
       "      <th>USDC</th>\n",
       "      <td>11.0</td>\n",
       "      <td>500.0</td>\n",
       "      <td>0.022000</td>\n",
       "    </tr>\n",
       "    <tr>\n",
       "      <th>USDT</th>\n",
       "      <td>7.0</td>\n",
       "      <td>215.0</td>\n",
       "      <td>0.032558</td>\n",
       "    </tr>\n",
       "    <tr>\n",
       "      <th>DAI</th>\n",
       "      <td>10.0</td>\n",
       "      <td>90.0</td>\n",
       "      <td>0.111111</td>\n",
       "    </tr>\n",
       "    <tr>\n",
       "      <th>BNB</th>\n",
       "      <td>2.0</td>\n",
       "      <td>11.0</td>\n",
       "      <td>0.181818</td>\n",
       "    </tr>\n",
       "  </tbody>\n",
       "</table>\n",
       "</div>"
      ],
      "text/plain": [
       "      # of arbitrage  total orders  % of arbitrage\n",
       "USDC            11.0         500.0        0.022000\n",
       "USDT             7.0         215.0        0.032558\n",
       "DAI             10.0          90.0        0.111111\n",
       "BNB              2.0          11.0        0.181818"
      ]
     },
     "execution_count": 4,
     "metadata": {},
     "output_type": "execute_result"
    }
   ],
   "source": [
    "print(\"Use WETH to buy following tokens low in 1inch and sell high at 0x\")\n",
    "df_WETH"
   ]
  },
  {
   "cell_type": "code",
   "execution_count": 5,
   "id": "007fab4f-f933-4a2a-b8ce-e305597b9740",
   "metadata": {},
   "outputs": [
    {
     "name": "stdout",
     "output_type": "stream",
     "text": [
      "Wall time: 7.53 s\n"
     ]
    }
   ],
   "source": [
    "%%time\n",
    "### WBTC\n",
    "df_WBTC.loc['USDC'] = arb(WBTC, USDC, ethereum, limit)\n",
    "# arb(WBTC, USDT, ethereum, limit)\n",
    "# arb(WBTC, DAI, ethereum, limit)\n",
    "# arb(WBTC, WETH, ethereum, limit)\n",
    "df_WBTC.loc['BNB'] = arb(WBTC, BNB, ethereum, limit)\n",
    "# arb(WBTC, MATIC, ethereum, limit)\n",
    "# arb(WBTC, SHIBA, ethereum, limit)"
   ]
  },
  {
   "cell_type": "code",
   "execution_count": 6,
   "id": "1405c830-d53a-4823-b2dd-2d8fedb176af",
   "metadata": {},
   "outputs": [
    {
     "name": "stdout",
     "output_type": "stream",
     "text": [
      "Use WBTC to buy following tokens low in 1inch and sell high at 0x\n"
     ]
    },
    {
     "data": {
      "text/html": [
       "<div>\n",
       "<style scoped>\n",
       "    .dataframe tbody tr th:only-of-type {\n",
       "        vertical-align: middle;\n",
       "    }\n",
       "\n",
       "    .dataframe tbody tr th {\n",
       "        vertical-align: top;\n",
       "    }\n",
       "\n",
       "    .dataframe thead th {\n",
       "        text-align: right;\n",
       "    }\n",
       "</style>\n",
       "<table border=\"1\" class=\"dataframe\">\n",
       "  <thead>\n",
       "    <tr style=\"text-align: right;\">\n",
       "      <th></th>\n",
       "      <th># of arbitrage</th>\n",
       "      <th>total orders</th>\n",
       "      <th>% of arbitrage</th>\n",
       "    </tr>\n",
       "  </thead>\n",
       "  <tbody>\n",
       "    <tr>\n",
       "      <th>USDC</th>\n",
       "      <td>9.0</td>\n",
       "      <td>175.0</td>\n",
       "      <td>0.051429</td>\n",
       "    </tr>\n",
       "    <tr>\n",
       "      <th>BNB</th>\n",
       "      <td>1.0</td>\n",
       "      <td>3.0</td>\n",
       "      <td>0.333333</td>\n",
       "    </tr>\n",
       "  </tbody>\n",
       "</table>\n",
       "</div>"
      ],
      "text/plain": [
       "      # of arbitrage  total orders  % of arbitrage\n",
       "USDC             9.0         175.0        0.051429\n",
       "BNB              1.0           3.0        0.333333"
      ]
     },
     "execution_count": 6,
     "metadata": {},
     "output_type": "execute_result"
    }
   ],
   "source": [
    "print(\"Use WBTC to buy following tokens low in 1inch and sell high at 0x\")\n",
    "df_WBTC"
   ]
  },
  {
   "cell_type": "code",
   "execution_count": 7,
   "id": "e77a5b10-bffb-4e6d-a57c-c21aafb7ddc7",
   "metadata": {},
   "outputs": [
    {
     "name": "stdout",
     "output_type": "stream",
     "text": [
      "Wall time: 10.5 s\n"
     ]
    }
   ],
   "source": [
    "%%time\n",
    "### BNB\n",
    "df_BNB.loc['USDC'] = arb(BNB, USDC, ethereum, limit)\n",
    "df_BNB.loc['USDT'] = arb(BNB, USDT, ethereum, limit)\n",
    "# arb(BNB, DAI, ethereum, limit)\n",
    "df_BNB.loc['WETH'] = arb(BNB, WETH, ethereum, limit)\n",
    "# arb(BNB, WBTC, ethereum, limit)\n",
    "# arb(BNB, MATIC, ethereum, limit)\n",
    "# arb(BNB, SHIBA, ethereum, limit)"
   ]
  },
  {
   "cell_type": "code",
   "execution_count": 8,
   "id": "4ac3ecc8-dc66-4562-9374-32e167e69687",
   "metadata": {},
   "outputs": [
    {
     "name": "stdout",
     "output_type": "stream",
     "text": [
      "Use BNB to buy following tokens low in 1inch and sell high at 0x\n"
     ]
    },
    {
     "data": {
      "text/html": [
       "<div>\n",
       "<style scoped>\n",
       "    .dataframe tbody tr th:only-of-type {\n",
       "        vertical-align: middle;\n",
       "    }\n",
       "\n",
       "    .dataframe tbody tr th {\n",
       "        vertical-align: top;\n",
       "    }\n",
       "\n",
       "    .dataframe thead th {\n",
       "        text-align: right;\n",
       "    }\n",
       "</style>\n",
       "<table border=\"1\" class=\"dataframe\">\n",
       "  <thead>\n",
       "    <tr style=\"text-align: right;\">\n",
       "      <th></th>\n",
       "      <th># of arbitrage</th>\n",
       "      <th>total orders</th>\n",
       "      <th>% of arbitrage</th>\n",
       "    </tr>\n",
       "  </thead>\n",
       "  <tbody>\n",
       "    <tr>\n",
       "      <th>USDC</th>\n",
       "      <td>1.0</td>\n",
       "      <td>1.0</td>\n",
       "      <td>1.0</td>\n",
       "    </tr>\n",
       "    <tr>\n",
       "      <th>USDT</th>\n",
       "      <td>1.0</td>\n",
       "      <td>1.0</td>\n",
       "      <td>1.0</td>\n",
       "    </tr>\n",
       "    <tr>\n",
       "      <th>WETH</th>\n",
       "      <td>0.0</td>\n",
       "      <td>13.0</td>\n",
       "      <td>0.0</td>\n",
       "    </tr>\n",
       "  </tbody>\n",
       "</table>\n",
       "</div>"
      ],
      "text/plain": [
       "      # of arbitrage  total orders  % of arbitrage\n",
       "USDC             1.0           1.0             1.0\n",
       "USDT             1.0           1.0             1.0\n",
       "WETH             0.0          13.0             0.0"
      ]
     },
     "execution_count": 8,
     "metadata": {},
     "output_type": "execute_result"
    }
   ],
   "source": [
    "print(\"Use BNB to buy following tokens low in 1inch and sell high at 0x\")\n",
    "df_BNB"
   ]
  },
  {
   "cell_type": "code",
   "execution_count": 9,
   "id": "f48dd364-7066-441e-bc3d-089901874152",
   "metadata": {},
   "outputs": [
    {
     "name": "stdout",
     "output_type": "stream",
     "text": [
      "Wall time: 3.95 s\n"
     ]
    }
   ],
   "source": [
    "%%time\n",
    "### MATIC\n",
    "df_MATIC.loc['USDC'] = arb(MATIC, USDC, ethereum, limit)\n",
    "# arb(MATIC, USDT, ethereum, limit)\n",
    "# arb(MATIC, DAI, ethereum, limit)\n",
    "# arb(MATIC, WETH, ethereum, limit)\n",
    "# arb(MATIC, WBTC, ethereum, limit)\n",
    "# arb(MATIC, BNB, ethereum, limit)\n",
    "# arb(MATIC, SHIBA, ethereum, limit)"
   ]
  },
  {
   "cell_type": "code",
   "execution_count": 10,
   "id": "65b586ed-d191-48d0-8200-4820f094f344",
   "metadata": {},
   "outputs": [
    {
     "name": "stdout",
     "output_type": "stream",
     "text": [
      "Use MATIC to buy following tokens low in 1inch and sell high at 0x\n"
     ]
    },
    {
     "data": {
      "text/html": [
       "<div>\n",
       "<style scoped>\n",
       "    .dataframe tbody tr th:only-of-type {\n",
       "        vertical-align: middle;\n",
       "    }\n",
       "\n",
       "    .dataframe tbody tr th {\n",
       "        vertical-align: top;\n",
       "    }\n",
       "\n",
       "    .dataframe thead th {\n",
       "        text-align: right;\n",
       "    }\n",
       "</style>\n",
       "<table border=\"1\" class=\"dataframe\">\n",
       "  <thead>\n",
       "    <tr style=\"text-align: right;\">\n",
       "      <th></th>\n",
       "      <th># of arbitrage</th>\n",
       "      <th>total orders</th>\n",
       "      <th>% of arbitrage</th>\n",
       "    </tr>\n",
       "  </thead>\n",
       "  <tbody>\n",
       "    <tr>\n",
       "      <th>USDC</th>\n",
       "      <td>1.0</td>\n",
       "      <td>20.0</td>\n",
       "      <td>0.05</td>\n",
       "    </tr>\n",
       "  </tbody>\n",
       "</table>\n",
       "</div>"
      ],
      "text/plain": [
       "      # of arbitrage  total orders  % of arbitrage\n",
       "USDC             1.0          20.0            0.05"
      ]
     },
     "execution_count": 10,
     "metadata": {},
     "output_type": "execute_result"
    }
   ],
   "source": [
    "print(\"Use MATIC to buy following tokens low in 1inch and sell high at 0x\")\n",
    "df_MATIC"
   ]
  },
  {
   "cell_type": "code",
   "execution_count": 11,
   "id": "389e4077-4f88-4d06-b92d-294993db7597",
   "metadata": {},
   "outputs": [
    {
     "name": "stdout",
     "output_type": "stream",
     "text": [
      "Wall time: 4.24 s\n"
     ]
    }
   ],
   "source": [
    "%%time\n",
    "### SHIBA\n",
    "df_SHIBA.loc['USDC'] = arb(SHIBA, USDC, ethereum, limit)\n",
    "# arb(SHIBA, USDT, ethereum, limit)\n",
    "# arb(SHIBA, DAI, ethereum, limit)\n",
    "# arb(SHIBA, WETH, ethereum, limit)\n",
    "# arb(SHIBA, WBTC, ethereum, limit)\n",
    "# arb(SHIBA, BNB, ethereum, limit)\n",
    "# arb(SHIBA, MATIC, ethereum, limit)"
   ]
  },
  {
   "cell_type": "code",
   "execution_count": 12,
   "id": "d4494a40-2010-4a3c-ae7d-a07b7c9b68db",
   "metadata": {},
   "outputs": [
    {
     "name": "stdout",
     "output_type": "stream",
     "text": [
      "Use SHIBA to buy following tokens low in 1inch and sell high at 0x\n"
     ]
    },
    {
     "data": {
      "text/html": [
       "<div>\n",
       "<style scoped>\n",
       "    .dataframe tbody tr th:only-of-type {\n",
       "        vertical-align: middle;\n",
       "    }\n",
       "\n",
       "    .dataframe tbody tr th {\n",
       "        vertical-align: top;\n",
       "    }\n",
       "\n",
       "    .dataframe thead th {\n",
       "        text-align: right;\n",
       "    }\n",
       "</style>\n",
       "<table border=\"1\" class=\"dataframe\">\n",
       "  <thead>\n",
       "    <tr style=\"text-align: right;\">\n",
       "      <th></th>\n",
       "      <th># of arbitrage</th>\n",
       "      <th>total orders</th>\n",
       "      <th>% of arbitrage</th>\n",
       "    </tr>\n",
       "  </thead>\n",
       "  <tbody>\n",
       "    <tr>\n",
       "      <th>USDC</th>\n",
       "      <td>1.0</td>\n",
       "      <td>31.0</td>\n",
       "      <td>0.032258</td>\n",
       "    </tr>\n",
       "  </tbody>\n",
       "</table>\n",
       "</div>"
      ],
      "text/plain": [
       "      # of arbitrage  total orders  % of arbitrage\n",
       "USDC             1.0          31.0        0.032258"
      ]
     },
     "execution_count": 12,
     "metadata": {},
     "output_type": "execute_result"
    }
   ],
   "source": [
    "print(\"Use SHIBA to buy following tokens low in 1inch and sell high at 0x\")\n",
    "df_SHIBA"
   ]
  },
  {
   "cell_type": "code",
   "execution_count": 13,
   "id": "c4c9b358-ee30-4db1-be2d-660ccc6f0c67",
   "metadata": {},
   "outputs": [
    {
     "name": "stdout",
     "output_type": "stream",
     "text": [
      "Wall time: 16 s\n"
     ]
    }
   ],
   "source": [
    "%%time\n",
    "### USDC\n",
    "# arb(USDC, USDT, ethereum, limit)\n",
    "# arb(USDC, DAI, ethereum, limit)\n",
    "df_USDC.loc['WETH'] = arb(USDC, WETH, ethereum, limit)\n",
    "df_USDC.loc['WBTC'] = arb(USDC, WBTC, ethereum, limit)\n",
    "df_USDC.loc['BNB'] = arb(USDC, BNB, ethereum, limit)\n",
    "# arb(USDC, MATIC, ethereum, limit)\n",
    "df_USDC.loc['SHIBA'] = arb(USDC, SHIBA, ethereum, limit)"
   ]
  },
  {
   "cell_type": "code",
   "execution_count": 14,
   "id": "5802ec6b-892b-4fcd-a1db-b9ce4c6281ea",
   "metadata": {},
   "outputs": [
    {
     "name": "stdout",
     "output_type": "stream",
     "text": [
      "Use USDC to buy following tokens low in 1inch and sell high at 0x\n"
     ]
    },
    {
     "data": {
      "text/html": [
       "<div>\n",
       "<style scoped>\n",
       "    .dataframe tbody tr th:only-of-type {\n",
       "        vertical-align: middle;\n",
       "    }\n",
       "\n",
       "    .dataframe tbody tr th {\n",
       "        vertical-align: top;\n",
       "    }\n",
       "\n",
       "    .dataframe thead th {\n",
       "        text-align: right;\n",
       "    }\n",
       "</style>\n",
       "<table border=\"1\" class=\"dataframe\">\n",
       "  <thead>\n",
       "    <tr style=\"text-align: right;\">\n",
       "      <th></th>\n",
       "      <th># of arbitrage</th>\n",
       "      <th>total orders</th>\n",
       "      <th>% of arbitrage</th>\n",
       "    </tr>\n",
       "  </thead>\n",
       "  <tbody>\n",
       "    <tr>\n",
       "      <th>WETH</th>\n",
       "      <td>2.0</td>\n",
       "      <td>8.0</td>\n",
       "      <td>0.25</td>\n",
       "    </tr>\n",
       "    <tr>\n",
       "      <th>WBTC</th>\n",
       "      <td>0.0</td>\n",
       "      <td>4.0</td>\n",
       "      <td>0.00</td>\n",
       "    </tr>\n",
       "    <tr>\n",
       "      <th>BNB</th>\n",
       "      <td>1.0</td>\n",
       "      <td>5.0</td>\n",
       "      <td>0.20</td>\n",
       "    </tr>\n",
       "    <tr>\n",
       "      <th>SHIBA</th>\n",
       "      <td>0.0</td>\n",
       "      <td>476.0</td>\n",
       "      <td>0.00</td>\n",
       "    </tr>\n",
       "  </tbody>\n",
       "</table>\n",
       "</div>"
      ],
      "text/plain": [
       "       # of arbitrage  total orders  % of arbitrage\n",
       "WETH              2.0           8.0            0.25\n",
       "WBTC              0.0           4.0            0.00\n",
       "BNB               1.0           5.0            0.20\n",
       "SHIBA             0.0         476.0            0.00"
      ]
     },
     "execution_count": 14,
     "metadata": {},
     "output_type": "execute_result"
    }
   ],
   "source": [
    "print(\"Use USDC to buy following tokens low in 1inch and sell high at 0x\")\n",
    "df_USDC"
   ]
  },
  {
   "cell_type": "code",
   "execution_count": 15,
   "id": "f50a0c4b-ed2a-4452-9430-c651d5d2a02f",
   "metadata": {},
   "outputs": [
    {
     "name": "stdout",
     "output_type": "stream",
     "text": [
      "Wall time: 7.44 s\n"
     ]
    }
   ],
   "source": [
    "%%time\n",
    "### USDT\n",
    "df_USDT.loc['USDC'] = arb(USDT, USDC, ethereum, limit)\n",
    "# arb(USDT, DAI, ethereum, limit)\n",
    "# arb(USDT, WETH, ethereum, limit)\n",
    "# arb(USDT, WBTC, ethereum, limit)\n",
    "df_USDT.loc['BNB'] = arb(USDT, BNB, ethereum, limit)\n",
    "# arb(USDT, MATIC, ethereum, limit)\n",
    "# arb(USDT, SHIBA, ethereum, limit)"
   ]
  },
  {
   "cell_type": "code",
   "execution_count": 16,
   "id": "d0f4faa0-46fa-4157-ad96-6741dea3eb30",
   "metadata": {},
   "outputs": [
    {
     "name": "stdout",
     "output_type": "stream",
     "text": [
      "Use USDT to buy following tokens low in 1inch and sell high at 0x\n"
     ]
    },
    {
     "data": {
      "text/html": [
       "<div>\n",
       "<style scoped>\n",
       "    .dataframe tbody tr th:only-of-type {\n",
       "        vertical-align: middle;\n",
       "    }\n",
       "\n",
       "    .dataframe tbody tr th {\n",
       "        vertical-align: top;\n",
       "    }\n",
       "\n",
       "    .dataframe thead th {\n",
       "        text-align: right;\n",
       "    }\n",
       "</style>\n",
       "<table border=\"1\" class=\"dataframe\">\n",
       "  <thead>\n",
       "    <tr style=\"text-align: right;\">\n",
       "      <th></th>\n",
       "      <th># of arbitrage</th>\n",
       "      <th>total orders</th>\n",
       "      <th>% of arbitrage</th>\n",
       "    </tr>\n",
       "  </thead>\n",
       "  <tbody>\n",
       "    <tr>\n",
       "      <th>USDC</th>\n",
       "      <td>2.0</td>\n",
       "      <td>9.0</td>\n",
       "      <td>0.222222</td>\n",
       "    </tr>\n",
       "    <tr>\n",
       "      <th>BNB</th>\n",
       "      <td>0.0</td>\n",
       "      <td>5.0</td>\n",
       "      <td>0.000000</td>\n",
       "    </tr>\n",
       "  </tbody>\n",
       "</table>\n",
       "</div>"
      ],
      "text/plain": [
       "      # of arbitrage  total orders  % of arbitrage\n",
       "USDC             2.0           9.0        0.222222\n",
       "BNB              0.0           5.0        0.000000"
      ]
     },
     "execution_count": 16,
     "metadata": {},
     "output_type": "execute_result"
    }
   ],
   "source": [
    "print(\"Use USDT to buy following tokens low in 1inch and sell high at 0x\")\n",
    "df_USDT"
   ]
  },
  {
   "cell_type": "code",
   "execution_count": 17,
   "id": "d20eec79-6f35-4360-8c1f-b5147d352ae0",
   "metadata": {},
   "outputs": [
    {
     "name": "stdout",
     "output_type": "stream",
     "text": [
      "Wall time: 7.04 s\n"
     ]
    }
   ],
   "source": [
    "%%time\n",
    "### DAI\n",
    "df_DAI.loc['USDC'] = arb(DAI, USDC, ethereum, limit)\n",
    "# arb(DAI, USDT, ethereum, limit)\n",
    "# arb(DAI, WETH, ethereum, limit)\n",
    "# arb(DAI, WBTC, ethereum, limit)\n",
    "df_DAI.loc['BNB'] = arb(DAI, BNB, ethereum, limit)\n",
    "# arb(DAI, MATIC, ethereum, limit)\n",
    "# arb(DAI, SHIBA, ethereum, limit)"
   ]
  },
  {
   "cell_type": "code",
   "execution_count": 18,
   "id": "4f008db5-2b81-410e-98be-3f0ec163f86c",
   "metadata": {},
   "outputs": [
    {
     "name": "stdout",
     "output_type": "stream",
     "text": [
      "Use DAI to buy following tokens low in 1inch and sell high at 0x\n"
     ]
    },
    {
     "data": {
      "text/html": [
       "<div>\n",
       "<style scoped>\n",
       "    .dataframe tbody tr th:only-of-type {\n",
       "        vertical-align: middle;\n",
       "    }\n",
       "\n",
       "    .dataframe tbody tr th {\n",
       "        vertical-align: top;\n",
       "    }\n",
       "\n",
       "    .dataframe thead th {\n",
       "        text-align: right;\n",
       "    }\n",
       "</style>\n",
       "<table border=\"1\" class=\"dataframe\">\n",
       "  <thead>\n",
       "    <tr style=\"text-align: right;\">\n",
       "      <th></th>\n",
       "      <th># of arbitrage</th>\n",
       "      <th>total orders</th>\n",
       "      <th>% of arbitrage</th>\n",
       "    </tr>\n",
       "  </thead>\n",
       "  <tbody>\n",
       "    <tr>\n",
       "      <th>USDC</th>\n",
       "      <td>0.0</td>\n",
       "      <td>3.0</td>\n",
       "      <td>0.00</td>\n",
       "    </tr>\n",
       "    <tr>\n",
       "      <th>BNB</th>\n",
       "      <td>1.0</td>\n",
       "      <td>4.0</td>\n",
       "      <td>0.25</td>\n",
       "    </tr>\n",
       "  </tbody>\n",
       "</table>\n",
       "</div>"
      ],
      "text/plain": [
       "      # of arbitrage  total orders  % of arbitrage\n",
       "USDC             0.0           3.0            0.00\n",
       "BNB              1.0           4.0            0.25"
      ]
     },
     "execution_count": 18,
     "metadata": {},
     "output_type": "execute_result"
    }
   ],
   "source": [
    "print(\"Use DAI to buy following tokens low in 1inch and sell high at 0x\")\n",
    "df_DAI"
   ]
  },
  {
   "cell_type": "code",
   "execution_count": null,
   "id": "94bcfd2e-62eb-443c-ab2f-3971f11ebad9",
   "metadata": {},
   "outputs": [],
   "source": []
  }
 ],
 "metadata": {
  "kernelspec": {
   "display_name": "Python 3 (ipykernel)",
   "language": "python",
   "name": "python3"
  },
  "language_info": {
   "codemirror_mode": {
    "name": "ipython",
    "version": 3
   },
   "file_extension": ".py",
   "mimetype": "text/x-python",
   "name": "python",
   "nbconvert_exporter": "python",
   "pygments_lexer": "ipython3",
   "version": "3.9.7"
  }
 },
 "nbformat": 4,
 "nbformat_minor": 5
}
