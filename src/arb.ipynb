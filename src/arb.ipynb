{
 "cells": [
  {
   "cell_type": "markdown",
   "id": "13539125-f384-4729-8309-7a79dcc43e0b",
   "metadata": {},
   "source": [
    "# DeFi arbitrage"
   ]
  },
  {
   "cell_type": "markdown",
   "id": "d0eb6099",
   "metadata": {},
   "source": [
    "### Imports and data setup"
   ]
  },
  {
   "cell_type": "code",
   "execution_count": 1,
   "id": "c0545a05-6667-46fb-8f5f-bd841feca94a",
   "metadata": {},
   "outputs": [],
   "source": [
    "import numpy as np\n",
    "import pandas as pd\n",
    "import matplotlib.pyplot as plt\n",
    "\n",
    "from fetch import *\n",
    "from one_inch_fetch import *\n",
    "from arb import *\n",
    "from constants import *"
   ]
  },
  {
   "cell_type": "code",
   "execution_count": 2,
   "id": "4f40f853-9cff-4154-b53e-31d1378140c8",
   "metadata": {},
   "outputs": [],
   "source": [
    "df_WETH = pd.DataFrame(columns=['# of arbitrage', 'total orders', '% of arbitrage', 'profit rate'])\n",
    "df_WBTC = df_WETH.copy()\n",
    "df_BNB = df_WETH.copy()\n",
    "df_MATIC = df_WETH.copy()\n",
    "df_SHIBA = df_WETH.copy()\n",
    "df_USDC = df_WETH.copy()\n",
    "df_USDT = df_WETH.copy()\n",
    "df_DAI = df_WETH.copy()"
   ]
  },
  {
   "cell_type": "markdown",
   "id": "174ad1e7",
   "metadata": {},
   "source": [
    "## Tokens Used: WETH, WBTC, BNB, MATC, SHIBA, USDC, USDT, DAI"
   ]
  },
  {
   "cell_type": "markdown",
   "id": "2dec9fcf",
   "metadata": {},
   "source": [
    "### Use WETH to buy following tokens low in 1inch and sell high at 0x"
   ]
  },
  {
   "cell_type": "code",
   "execution_count": 3,
   "id": "f8b11590-7b91-4b3c-9681-5dc1c0ce5edd",
   "metadata": {},
   "outputs": [
    {
     "name": "stdout",
     "output_type": "stream",
     "text": [
      "arb_count: 15, arb_opportunity: 0.0334075723830735, profit_rate: 0.6957443952208943\n",
      "arb_count: 7, arb_opportunity: 0.03535353535353535, profit_rate: 0.2429535047174863\n",
      "arb_count: 8, arb_opportunity: 0.09876543209876543, profit_rate: 0.1913277911906883\n",
      "arb_count: 2, arb_opportunity: 0.2857142857142857, profit_rate: 0.18607167004732927\n",
      "Wall time: 21.2 s\n"
     ]
    }
   ],
   "source": [
    "%%time\n",
    "df_WETH.loc['USDC'] = arb(WETH, USDC, ethereum, limit)\n",
    "df_WETH.loc['USDT'] = arb(WETH, USDT, ethereum, limit)\n",
    "df_WETH.loc['DAI'] = arb(WETH, DAI, ethereum, limit)\n",
    "df_WETH.loc['BNB'] = arb(WETH, BNB, ethereum, limit)"
   ]
  },
  {
   "cell_type": "code",
   "execution_count": 4,
   "id": "abfce081-f149-4d45-9207-e29f5d6ee268",
   "metadata": {},
   "outputs": [
    {
     "data": {
      "text/html": [
       "<div>\n",
       "<style scoped>\n",
       "    .dataframe tbody tr th:only-of-type {\n",
       "        vertical-align: middle;\n",
       "    }\n",
       "\n",
       "    .dataframe tbody tr th {\n",
       "        vertical-align: top;\n",
       "    }\n",
       "\n",
       "    .dataframe thead th {\n",
       "        text-align: right;\n",
       "    }\n",
       "</style>\n",
       "<table border=\"1\" class=\"dataframe\">\n",
       "  <thead>\n",
       "    <tr style=\"text-align: right;\">\n",
       "      <th></th>\n",
       "      <th># of arbitrage</th>\n",
       "      <th>total orders</th>\n",
       "      <th>% of arbitrage</th>\n",
       "      <th>profit rate</th>\n",
       "    </tr>\n",
       "  </thead>\n",
       "  <tbody>\n",
       "    <tr>\n",
       "      <th>USDC</th>\n",
       "      <td>15.0</td>\n",
       "      <td>449.0</td>\n",
       "      <td>0.033408</td>\n",
       "      <td>0.695744</td>\n",
       "    </tr>\n",
       "    <tr>\n",
       "      <th>USDT</th>\n",
       "      <td>7.0</td>\n",
       "      <td>198.0</td>\n",
       "      <td>0.035354</td>\n",
       "      <td>0.242954</td>\n",
       "    </tr>\n",
       "    <tr>\n",
       "      <th>DAI</th>\n",
       "      <td>8.0</td>\n",
       "      <td>81.0</td>\n",
       "      <td>0.098765</td>\n",
       "      <td>0.191328</td>\n",
       "    </tr>\n",
       "    <tr>\n",
       "      <th>BNB</th>\n",
       "      <td>2.0</td>\n",
       "      <td>7.0</td>\n",
       "      <td>0.285714</td>\n",
       "      <td>0.186072</td>\n",
       "    </tr>\n",
       "  </tbody>\n",
       "</table>\n",
       "</div>"
      ],
      "text/plain": [
       "      # of arbitrage  total orders  % of arbitrage  profit rate\n",
       "USDC            15.0         449.0        0.033408     0.695744\n",
       "USDT             7.0         198.0        0.035354     0.242954\n",
       "DAI              8.0          81.0        0.098765     0.191328\n",
       "BNB              2.0           7.0        0.285714     0.186072"
      ]
     },
     "execution_count": 4,
     "metadata": {},
     "output_type": "execute_result"
    }
   ],
   "source": [
    "df_WETH"
   ]
  },
  {
   "cell_type": "markdown",
   "id": "2686bbe1",
   "metadata": {},
   "source": [
    "### Use WBTC to buy following tokens low in 1inch and sell high at 0x"
   ]
  },
  {
   "cell_type": "code",
   "execution_count": 5,
   "id": "007fab4f-f933-4a2a-b8ce-e305597b9740",
   "metadata": {},
   "outputs": [
    {
     "name": "stdout",
     "output_type": "stream",
     "text": [
      "arb_count: 4, arb_opportunity: 0.024844720496894408, profit_rate: 0.08758934642184879\n",
      "arb_count: 0, arb_opportunity: 0.0, profit_rate: 0\n",
      "Wall time: 8.31 s\n"
     ]
    }
   ],
   "source": [
    "%%time\n",
    "df_WBTC.loc['USDC'] = arb(WBTC, USDC, ethereum, limit)\n",
    "df_WBTC.loc['BNB'] = arb(WBTC, BNB, ethereum, limit)"
   ]
  },
  {
   "cell_type": "code",
   "execution_count": 6,
   "id": "1405c830-d53a-4823-b2dd-2d8fedb176af",
   "metadata": {},
   "outputs": [
    {
     "data": {
      "text/html": [
       "<div>\n",
       "<style scoped>\n",
       "    .dataframe tbody tr th:only-of-type {\n",
       "        vertical-align: middle;\n",
       "    }\n",
       "\n",
       "    .dataframe tbody tr th {\n",
       "        vertical-align: top;\n",
       "    }\n",
       "\n",
       "    .dataframe thead th {\n",
       "        text-align: right;\n",
       "    }\n",
       "</style>\n",
       "<table border=\"1\" class=\"dataframe\">\n",
       "  <thead>\n",
       "    <tr style=\"text-align: right;\">\n",
       "      <th></th>\n",
       "      <th># of arbitrage</th>\n",
       "      <th>total orders</th>\n",
       "      <th>% of arbitrage</th>\n",
       "      <th>profit rate</th>\n",
       "    </tr>\n",
       "  </thead>\n",
       "  <tbody>\n",
       "    <tr>\n",
       "      <th>USDC</th>\n",
       "      <td>4.0</td>\n",
       "      <td>161.0</td>\n",
       "      <td>0.024845</td>\n",
       "      <td>0.087589</td>\n",
       "    </tr>\n",
       "    <tr>\n",
       "      <th>BNB</th>\n",
       "      <td>0.0</td>\n",
       "      <td>3.0</td>\n",
       "      <td>0.000000</td>\n",
       "      <td>0.000000</td>\n",
       "    </tr>\n",
       "  </tbody>\n",
       "</table>\n",
       "</div>"
      ],
      "text/plain": [
       "      # of arbitrage  total orders  % of arbitrage  profit rate\n",
       "USDC             4.0         161.0        0.024845     0.087589\n",
       "BNB              0.0           3.0        0.000000     0.000000"
      ]
     },
     "execution_count": 6,
     "metadata": {},
     "output_type": "execute_result"
    }
   ],
   "source": [
    "df_WBTC"
   ]
  },
  {
   "cell_type": "markdown",
   "id": "11b66757",
   "metadata": {},
   "source": [
    "### Use BNB to buy following tokens low in 1inch and sell high at 0x"
   ]
  },
  {
   "cell_type": "code",
   "execution_count": 7,
   "id": "e77a5b10-bffb-4e6d-a57c-c21aafb7ddc7",
   "metadata": {},
   "outputs": [
    {
     "name": "stdout",
     "output_type": "stream",
     "text": [
      "arb_count: 1, arb_opportunity: 1.0, profit_rate: 18.215686274509803\n",
      "arb_count: 1, arb_opportunity: 1.0, profit_rate: 31.026143790849677\n",
      "arb_count: 0, arb_opportunity: 0.0, profit_rate: 0\n",
      "Wall time: 10.7 s\n"
     ]
    }
   ],
   "source": [
    "%%time\n",
    "df_BNB.loc['USDC'] = arb(BNB, USDC, ethereum, limit)\n",
    "df_BNB.loc['USDT'] = arb(BNB, USDT, ethereum, limit)\n",
    "df_BNB.loc['WETH'] = arb(BNB, WETH, ethereum, limit)"
   ]
  },
  {
   "cell_type": "code",
   "execution_count": 8,
   "id": "4ac3ecc8-dc66-4562-9374-32e167e69687",
   "metadata": {},
   "outputs": [
    {
     "data": {
      "text/html": [
       "<div>\n",
       "<style scoped>\n",
       "    .dataframe tbody tr th:only-of-type {\n",
       "        vertical-align: middle;\n",
       "    }\n",
       "\n",
       "    .dataframe tbody tr th {\n",
       "        vertical-align: top;\n",
       "    }\n",
       "\n",
       "    .dataframe thead th {\n",
       "        text-align: right;\n",
       "    }\n",
       "</style>\n",
       "<table border=\"1\" class=\"dataframe\">\n",
       "  <thead>\n",
       "    <tr style=\"text-align: right;\">\n",
       "      <th></th>\n",
       "      <th># of arbitrage</th>\n",
       "      <th>total orders</th>\n",
       "      <th>% of arbitrage</th>\n",
       "      <th>profit rate</th>\n",
       "    </tr>\n",
       "  </thead>\n",
       "  <tbody>\n",
       "    <tr>\n",
       "      <th>USDC</th>\n",
       "      <td>1.0</td>\n",
       "      <td>1.0</td>\n",
       "      <td>1.0</td>\n",
       "      <td>18.215686</td>\n",
       "    </tr>\n",
       "    <tr>\n",
       "      <th>USDT</th>\n",
       "      <td>1.0</td>\n",
       "      <td>1.0</td>\n",
       "      <td>1.0</td>\n",
       "      <td>31.026144</td>\n",
       "    </tr>\n",
       "    <tr>\n",
       "      <th>WETH</th>\n",
       "      <td>0.0</td>\n",
       "      <td>8.0</td>\n",
       "      <td>0.0</td>\n",
       "      <td>0.000000</td>\n",
       "    </tr>\n",
       "  </tbody>\n",
       "</table>\n",
       "</div>"
      ],
      "text/plain": [
       "      # of arbitrage  total orders  % of arbitrage  profit rate\n",
       "USDC             1.0           1.0             1.0    18.215686\n",
       "USDT             1.0           1.0             1.0    31.026144\n",
       "WETH             0.0           8.0             0.0     0.000000"
      ]
     },
     "execution_count": 8,
     "metadata": {},
     "output_type": "execute_result"
    }
   ],
   "source": [
    "df_BNB"
   ]
  },
  {
   "cell_type": "markdown",
   "id": "183163af",
   "metadata": {},
   "source": [
    "### Use MATIC to buy following tokens low in 1inch and sell high at 0x"
   ]
  },
  {
   "cell_type": "code",
   "execution_count": 9,
   "id": "f48dd364-7066-441e-bc3d-089901874152",
   "metadata": {},
   "outputs": [
    {
     "name": "stdout",
     "output_type": "stream",
     "text": [
      "arb_count: 0, arb_opportunity: 0.0, profit_rate: 0\n",
      "Wall time: 3.83 s\n"
     ]
    }
   ],
   "source": [
    "%%time\n",
    "df_MATIC.loc['USDC'] = arb(MATIC, USDC, ethereum, limit)"
   ]
  },
  {
   "cell_type": "code",
   "execution_count": 10,
   "id": "65b586ed-d191-48d0-8200-4820f094f344",
   "metadata": {},
   "outputs": [
    {
     "data": {
      "text/html": [
       "<div>\n",
       "<style scoped>\n",
       "    .dataframe tbody tr th:only-of-type {\n",
       "        vertical-align: middle;\n",
       "    }\n",
       "\n",
       "    .dataframe tbody tr th {\n",
       "        vertical-align: top;\n",
       "    }\n",
       "\n",
       "    .dataframe thead th {\n",
       "        text-align: right;\n",
       "    }\n",
       "</style>\n",
       "<table border=\"1\" class=\"dataframe\">\n",
       "  <thead>\n",
       "    <tr style=\"text-align: right;\">\n",
       "      <th></th>\n",
       "      <th># of arbitrage</th>\n",
       "      <th>total orders</th>\n",
       "      <th>% of arbitrage</th>\n",
       "      <th>profit rate</th>\n",
       "    </tr>\n",
       "  </thead>\n",
       "  <tbody>\n",
       "    <tr>\n",
       "      <th>USDC</th>\n",
       "      <td>0.0</td>\n",
       "      <td>16.0</td>\n",
       "      <td>0.0</td>\n",
       "      <td>0.0</td>\n",
       "    </tr>\n",
       "  </tbody>\n",
       "</table>\n",
       "</div>"
      ],
      "text/plain": [
       "      # of arbitrage  total orders  % of arbitrage  profit rate\n",
       "USDC             0.0          16.0             0.0          0.0"
      ]
     },
     "execution_count": 10,
     "metadata": {},
     "output_type": "execute_result"
    }
   ],
   "source": [
    "df_MATIC"
   ]
  },
  {
   "cell_type": "markdown",
   "id": "42234d08",
   "metadata": {},
   "source": [
    "### Use SHIBA to buy following tokens low in 1inch and sell high at 0x"
   ]
  },
  {
   "cell_type": "code",
   "execution_count": 11,
   "id": "389e4077-4f88-4d06-b92d-294993db7597",
   "metadata": {},
   "outputs": [
    {
     "name": "stdout",
     "output_type": "stream",
     "text": [
      "arb_count: 0, arb_opportunity: 0.0, profit_rate: 0\n",
      "Wall time: 3.92 s\n"
     ]
    }
   ],
   "source": [
    "%%time\n",
    "df_SHIBA.loc['USDC'] = arb(SHIBA, USDC, ethereum, limit)"
   ]
  },
  {
   "cell_type": "code",
   "execution_count": 12,
   "id": "d4494a40-2010-4a3c-ae7d-a07b7c9b68db",
   "metadata": {},
   "outputs": [
    {
     "data": {
      "text/html": [
       "<div>\n",
       "<style scoped>\n",
       "    .dataframe tbody tr th:only-of-type {\n",
       "        vertical-align: middle;\n",
       "    }\n",
       "\n",
       "    .dataframe tbody tr th {\n",
       "        vertical-align: top;\n",
       "    }\n",
       "\n",
       "    .dataframe thead th {\n",
       "        text-align: right;\n",
       "    }\n",
       "</style>\n",
       "<table border=\"1\" class=\"dataframe\">\n",
       "  <thead>\n",
       "    <tr style=\"text-align: right;\">\n",
       "      <th></th>\n",
       "      <th># of arbitrage</th>\n",
       "      <th>total orders</th>\n",
       "      <th>% of arbitrage</th>\n",
       "      <th>profit rate</th>\n",
       "    </tr>\n",
       "  </thead>\n",
       "  <tbody>\n",
       "    <tr>\n",
       "      <th>USDC</th>\n",
       "      <td>0.0</td>\n",
       "      <td>22.0</td>\n",
       "      <td>0.0</td>\n",
       "      <td>0.0</td>\n",
       "    </tr>\n",
       "  </tbody>\n",
       "</table>\n",
       "</div>"
      ],
      "text/plain": [
       "      # of arbitrage  total orders  % of arbitrage  profit rate\n",
       "USDC             0.0          22.0             0.0          0.0"
      ]
     },
     "execution_count": 12,
     "metadata": {},
     "output_type": "execute_result"
    }
   ],
   "source": [
    "df_SHIBA"
   ]
  },
  {
   "cell_type": "markdown",
   "id": "19eef974",
   "metadata": {},
   "source": [
    "### Use USDC to buy following tokens low in 1inch and sell high at 0x"
   ]
  },
  {
   "cell_type": "code",
   "execution_count": 13,
   "id": "c4c9b358-ee30-4db1-be2d-660ccc6f0c67",
   "metadata": {},
   "outputs": [
    {
     "name": "stdout",
     "output_type": "stream",
     "text": [
      "arb_count: 2, arb_opportunity: 0.3333333333333333, profit_rate: 0.04819797777598139\n",
      "arb_count: 0, arb_opportunity: 0.0, profit_rate: 0\n",
      "arb_count: 0, arb_opportunity: 0.0, profit_rate: 0\n",
      "Wall time: 10.9 s\n"
     ]
    }
   ],
   "source": [
    "%%time\n",
    "df_USDC.loc['WETH'] = arb(USDC, WETH, ethereum, limit)\n",
    "df_USDC.loc['WBTC'] = arb(USDC, WBTC, ethereum, limit)\n",
    "df_USDC.loc['BNB'] = arb(USDC, BNB, ethereum, limit)"
   ]
  },
  {
   "cell_type": "code",
   "execution_count": 14,
   "id": "5802ec6b-892b-4fcd-a1db-b9ce4c6281ea",
   "metadata": {},
   "outputs": [
    {
     "data": {
      "text/html": [
       "<div>\n",
       "<style scoped>\n",
       "    .dataframe tbody tr th:only-of-type {\n",
       "        vertical-align: middle;\n",
       "    }\n",
       "\n",
       "    .dataframe tbody tr th {\n",
       "        vertical-align: top;\n",
       "    }\n",
       "\n",
       "    .dataframe thead th {\n",
       "        text-align: right;\n",
       "    }\n",
       "</style>\n",
       "<table border=\"1\" class=\"dataframe\">\n",
       "  <thead>\n",
       "    <tr style=\"text-align: right;\">\n",
       "      <th></th>\n",
       "      <th># of arbitrage</th>\n",
       "      <th>total orders</th>\n",
       "      <th>% of arbitrage</th>\n",
       "      <th>profit rate</th>\n",
       "    </tr>\n",
       "  </thead>\n",
       "  <tbody>\n",
       "    <tr>\n",
       "      <th>WETH</th>\n",
       "      <td>2.0</td>\n",
       "      <td>6.0</td>\n",
       "      <td>0.333333</td>\n",
       "      <td>0.048198</td>\n",
       "    </tr>\n",
       "    <tr>\n",
       "      <th>WBTC</th>\n",
       "      <td>0.0</td>\n",
       "      <td>3.0</td>\n",
       "      <td>0.000000</td>\n",
       "      <td>0.000000</td>\n",
       "    </tr>\n",
       "    <tr>\n",
       "      <th>BNB</th>\n",
       "      <td>0.0</td>\n",
       "      <td>5.0</td>\n",
       "      <td>0.000000</td>\n",
       "      <td>0.000000</td>\n",
       "    </tr>\n",
       "  </tbody>\n",
       "</table>\n",
       "</div>"
      ],
      "text/plain": [
       "      # of arbitrage  total orders  % of arbitrage  profit rate\n",
       "WETH             2.0           6.0        0.333333     0.048198\n",
       "WBTC             0.0           3.0        0.000000     0.000000\n",
       "BNB              0.0           5.0        0.000000     0.000000"
      ]
     },
     "execution_count": 14,
     "metadata": {},
     "output_type": "execute_result"
    }
   ],
   "source": [
    "df_USDC"
   ]
  },
  {
   "cell_type": "markdown",
   "id": "2912212a",
   "metadata": {},
   "source": [
    "### Use USDT to buy following tokens low in 1inch and sell high at 0x"
   ]
  },
  {
   "cell_type": "code",
   "execution_count": 15,
   "id": "f50a0c4b-ed2a-4452-9430-c651d5d2a02f",
   "metadata": {},
   "outputs": [
    {
     "name": "stdout",
     "output_type": "stream",
     "text": [
      "arb_count: 0, arb_opportunity: 0.0, profit_rate: 0\n",
      "arb_count: 0, arb_opportunity: 0.0, profit_rate: 0\n",
      "Wall time: 7.16 s\n"
     ]
    }
   ],
   "source": [
    "%%time\n",
    "df_USDT.loc['USDC'] = arb(USDT, USDC, ethereum, limit)\n",
    "df_USDT.loc['BNB'] = arb(USDT, BNB, ethereum, limit)"
   ]
  },
  {
   "cell_type": "code",
   "execution_count": 16,
   "id": "5626345b",
   "metadata": {},
   "outputs": [
    {
     "data": {
      "text/html": [
       "<div>\n",
       "<style scoped>\n",
       "    .dataframe tbody tr th:only-of-type {\n",
       "        vertical-align: middle;\n",
       "    }\n",
       "\n",
       "    .dataframe tbody tr th {\n",
       "        vertical-align: top;\n",
       "    }\n",
       "\n",
       "    .dataframe thead th {\n",
       "        text-align: right;\n",
       "    }\n",
       "</style>\n",
       "<table border=\"1\" class=\"dataframe\">\n",
       "  <thead>\n",
       "    <tr style=\"text-align: right;\">\n",
       "      <th></th>\n",
       "      <th># of arbitrage</th>\n",
       "      <th>total orders</th>\n",
       "      <th>% of arbitrage</th>\n",
       "      <th>profit rate</th>\n",
       "    </tr>\n",
       "  </thead>\n",
       "  <tbody>\n",
       "    <tr>\n",
       "      <th>USDC</th>\n",
       "      <td>0.0</td>\n",
       "      <td>6.0</td>\n",
       "      <td>0.0</td>\n",
       "      <td>0.0</td>\n",
       "    </tr>\n",
       "    <tr>\n",
       "      <th>BNB</th>\n",
       "      <td>0.0</td>\n",
       "      <td>5.0</td>\n",
       "      <td>0.0</td>\n",
       "      <td>0.0</td>\n",
       "    </tr>\n",
       "  </tbody>\n",
       "</table>\n",
       "</div>"
      ],
      "text/plain": [
       "      # of arbitrage  total orders  % of arbitrage  profit rate\n",
       "USDC             0.0           6.0             0.0          0.0\n",
       "BNB              0.0           5.0             0.0          0.0"
      ]
     },
     "execution_count": 16,
     "metadata": {},
     "output_type": "execute_result"
    }
   ],
   "source": [
    "df_USDT"
   ]
  },
  {
   "cell_type": "markdown",
   "id": "10611fe6",
   "metadata": {},
   "source": [
    "### Use DAI to buy following tokens low in 1inch and sell high at 0x"
   ]
  },
  {
   "cell_type": "code",
   "execution_count": 17,
   "id": "d20eec79-6f35-4360-8c1f-b5147d352ae0",
   "metadata": {},
   "outputs": [
    {
     "name": "stdout",
     "output_type": "stream",
     "text": [
      "arb_count: 0, arb_opportunity: 0.0, profit_rate: 0\n",
      "arb_count: 0, arb_opportunity: 0.0, profit_rate: 0\n",
      "Wall time: 7.44 s\n"
     ]
    }
   ],
   "source": [
    "%%time\n",
    "df_DAI.loc['USDC'] = arb(DAI, USDC, ethereum, limit)\n",
    "df_DAI.loc['BNB'] = arb(DAI, BNB, ethereum, limit)"
   ]
  },
  {
   "cell_type": "code",
   "execution_count": 18,
   "id": "4f008db5-2b81-410e-98be-3f0ec163f86c",
   "metadata": {},
   "outputs": [
    {
     "data": {
      "text/html": [
       "<div>\n",
       "<style scoped>\n",
       "    .dataframe tbody tr th:only-of-type {\n",
       "        vertical-align: middle;\n",
       "    }\n",
       "\n",
       "    .dataframe tbody tr th {\n",
       "        vertical-align: top;\n",
       "    }\n",
       "\n",
       "    .dataframe thead th {\n",
       "        text-align: right;\n",
       "    }\n",
       "</style>\n",
       "<table border=\"1\" class=\"dataframe\">\n",
       "  <thead>\n",
       "    <tr style=\"text-align: right;\">\n",
       "      <th></th>\n",
       "      <th># of arbitrage</th>\n",
       "      <th>total orders</th>\n",
       "      <th>% of arbitrage</th>\n",
       "      <th>profit rate</th>\n",
       "    </tr>\n",
       "  </thead>\n",
       "  <tbody>\n",
       "    <tr>\n",
       "      <th>USDC</th>\n",
       "      <td>0.0</td>\n",
       "      <td>2.0</td>\n",
       "      <td>0.0</td>\n",
       "      <td>0.0</td>\n",
       "    </tr>\n",
       "    <tr>\n",
       "      <th>BNB</th>\n",
       "      <td>0.0</td>\n",
       "      <td>4.0</td>\n",
       "      <td>0.0</td>\n",
       "      <td>0.0</td>\n",
       "    </tr>\n",
       "  </tbody>\n",
       "</table>\n",
       "</div>"
      ],
      "text/plain": [
       "      # of arbitrage  total orders  % of arbitrage  profit rate\n",
       "USDC             0.0           2.0             0.0          0.0\n",
       "BNB              0.0           4.0             0.0          0.0"
      ]
     },
     "execution_count": 18,
     "metadata": {},
     "output_type": "execute_result"
    }
   ],
   "source": [
    "df_DAI"
   ]
  },
  {
   "cell_type": "code",
   "execution_count": 19,
   "id": "078465a1",
   "metadata": {},
   "outputs": [
    {
     "data": {
      "text/plain": [
       "Text(0.5, 1.0, 'Arbitrage Ratio Distribution')"
      ]
     },
     "execution_count": 19,
     "metadata": {},
     "output_type": "execute_result"
    },
    {
     "data": {
      "image/png": "[encoded data removed]",
      "text/plain": [
       "<Figure size 432x288 with 1 Axes>"
      ]
     },
     "metadata": {
      "needs_background": "light"
     },
     "output_type": "display_data"
    }
   ],
   "source": [
    "dist=[0.022000, 0.032558, 0.111111, 0.181818, 0.051429, 0.333333, 1.0, 1.0, 0.0, 0.05, 0.032258, 0.25, 0.00, 0.20, 0.00, 0.222222, 0.000000, 0.00, 0.25]\n",
    "plt.subplot().hist(dist, bins=10)\n",
    "plt.xlabel('Arbitrage Ratio (valid orders/total orders)')\n",
    "plt.ylabel('Total Abritrages')\n",
    "plt.title('Arbitrage Ratio Distribution')"
   ]
  },
  {
   "cell_type": "code",
   "execution_count": null,
   "id": "e1a75534",
   "metadata": {},
   "outputs": [],
   "source": []
  },
  {
   "cell_type": "code",
   "execution_count": null,
   "id": "831beb62-7f58-4149-848d-c2d39e9e36c8",
   "metadata": {},
   "outputs": [],
   "source": []
  }
 ],
 "metadata": {
  "interpreter": {
   "hash": "31f2aee4e71d21fbe5cf8b01ff0e069b9275f58929596ceb00d14d90e3e16cd6"
  },
  "kernelspec": {
   "display_name": "Python 3 (ipykernel)",
   "language": "python",
   "name": "python3"
  },
  "language_info": {
   "codemirror_mode": {
    "name": "ipython",
    "version": 3
   },
   "file_extension": ".py",
   "mimetype": "text/x-python",
   "name": "python",
   "nbconvert_exporter": "python",
   "pygments_lexer": "ipython3",
   "version": "3.9.7"
  }
 },
 "nbformat": 4,
 "nbformat_minor": 5
}
