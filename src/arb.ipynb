{
 "cells": [
  {
   "cell_type": "markdown",
   "id": "13539125-f384-4729-8309-7a79dcc43e0b",
   "metadata": {},
   "source": [
    "# DeFi arbitrage"
   ]
  },
  {
   "cell_type": "markdown",
   "id": "d0eb6099",
   "metadata": {},
   "source": [
    "### Imports and data setup"
   ]
  },
  {
   "cell_type": "code",
   "execution_count": 1,
   "id": "c0545a05-6667-46fb-8f5f-bd841feca94a",
   "metadata": {},
   "outputs": [],
   "source": [
    "import numpy as np\n",
    "import pandas as pd\n",
    "import matplotlib.pyplot as plt\n",
    "\n",
    "from fetch import *\n",
    "from one_inch_fetch import *\n",
    "from arb import *\n",
    "from constants import *"
   ]
  },
  {
   "cell_type": "code",
   "execution_count": 12,
   "id": "4f40f853-9cff-4154-b53e-31d1378140c8",
   "metadata": {},
   "outputs": [],
   "source": [
    "df_WETH = pd.DataFrame(columns=['# of arbitrage', 'total orders', '% of arbitrage'])\n",
    "df_WBTC = df_WETH.copy()\n",
    "df_BNB = df_WETH.copy()\n",
    "df_MATIC = df_WETH.copy()\n",
    "df_SHIBA = df_WETH.copy()\n",
    "df_USDC = df_WETH.copy()\n",
    "df_USDT = df_WETH.copy()\n",
    "df_DAI = df_WETH.copy()"
   ]
  },
  {
   "cell_type": "markdown",
   "id": "174ad1e7",
   "metadata": {},
   "source": [
    "## Tokens Used: WETH, WBTC, BNB, MATC, SHIBA, USDC, USDT, DAI"
   ]
  },
  {
   "cell_type": "markdown",
   "id": "2dec9fcf",
   "metadata": {},
   "source": [
    "### Use WETH to buy following tokens low in 1inch and sell high at 0x"
   ]
  },
  {
   "cell_type": "code",
   "execution_count": 27,
   "id": "f8b11590-7b91-4b3c-9681-5dc1c0ce5edd",
   "metadata": {},
   "outputs": [
    {
     "name": "stdout",
     "output_type": "stream",
     "text": [
      "CPU times: user 541 ms, sys: 54.7 ms, total: 596 ms\n",
      "Wall time: 17.6 s\n"
     ]
    }
   ],
   "source": [
    "%%time\n",
    "df_WETH.loc['USDC'] = arb(WETH, USDC, ethereum, limit)\n",
    "df_WETH.loc['USDT'] = arb(WETH, USDT, ethereum, limit)\n",
    "df_WETH.loc['DAI'] = arb(WETH, DAI, ethereum, limit)\n",
    "df_WETH.loc['BNB'] = arb(WETH, BNB, ethereum, limit)"
   ]
  },
  {
   "cell_type": "code",
   "execution_count": 14,
   "id": "abfce081-f149-4d45-9207-e29f5d6ee268",
   "metadata": {},
   "outputs": [
    {
     "data": {
      "text/html": [
       "<div>\n",
       "<style scoped>\n",
       "    .dataframe tbody tr th:only-of-type {\n",
       "        vertical-align: middle;\n",
       "    }\n",
       "\n",
       "    .dataframe tbody tr th {\n",
       "        vertical-align: top;\n",
       "    }\n",
       "\n",
       "    .dataframe thead th {\n",
       "        text-align: right;\n",
       "    }\n",
       "</style>\n",
       "<table border=\"1\" class=\"dataframe\">\n",
       "  <thead>\n",
       "    <tr style=\"text-align: right;\">\n",
       "      <th></th>\n",
       "      <th># of arbitrage</th>\n",
       "      <th>total orders</th>\n",
       "      <th>% of arbitrage</th>\n",
       "    </tr>\n",
       "  </thead>\n",
       "  <tbody>\n",
       "    <tr>\n",
       "      <th>USDC</th>\n",
       "      <td>16.0</td>\n",
       "      <td>499.0</td>\n",
       "      <td>0.032064</td>\n",
       "    </tr>\n",
       "    <tr>\n",
       "      <th>USDT</th>\n",
       "      <td>7.0</td>\n",
       "      <td>214.0</td>\n",
       "      <td>0.032710</td>\n",
       "    </tr>\n",
       "    <tr>\n",
       "      <th>DAI</th>\n",
       "      <td>10.0</td>\n",
       "      <td>90.0</td>\n",
       "      <td>0.111111</td>\n",
       "    </tr>\n",
       "    <tr>\n",
       "      <th>BNB</th>\n",
       "      <td>2.0</td>\n",
       "      <td>11.0</td>\n",
       "      <td>0.181818</td>\n",
       "    </tr>\n",
       "  </tbody>\n",
       "</table>\n",
       "</div>"
      ],
      "text/plain": [
       "      # of arbitrage  total orders  % of arbitrage\n",
       "USDC            16.0         499.0        0.032064\n",
       "USDT             7.0         214.0        0.032710\n",
       "DAI             10.0          90.0        0.111111\n",
       "BNB              2.0          11.0        0.181818"
      ]
     },
     "execution_count": 14,
     "metadata": {},
     "output_type": "execute_result"
    }
   ],
   "source": [
    "df_WETH"
   ]
  },
  {
   "cell_type": "markdown",
   "id": "2686bbe1",
   "metadata": {},
   "source": [
    "### Use WBTC to buy following tokens low in 1inch and sell high at 0x"
   ]
  },
  {
   "cell_type": "code",
   "execution_count": 15,
   "id": "007fab4f-f933-4a2a-b8ce-e305597b9740",
   "metadata": {},
   "outputs": [
    {
     "name": "stdout",
     "output_type": "stream",
     "text": [
      "CPU times: user 252 ms, sys: 26.4 ms, total: 278 ms\n",
      "Wall time: 8.22 s\n"
     ]
    }
   ],
   "source": [
    "%%time\n",
    "df_WBTC.loc['USDC'] = arb(WBTC, USDC, ethereum, limit)\n",
    "df_WBTC.loc['BNB'] = arb(WBTC, BNB, ethereum, limit)"
   ]
  },
  {
   "cell_type": "code",
   "execution_count": 16,
   "id": "1405c830-d53a-4823-b2dd-2d8fedb176af",
   "metadata": {},
   "outputs": [
    {
     "data": {
      "text/html": [
       "<div>\n",
       "<style scoped>\n",
       "    .dataframe tbody tr th:only-of-type {\n",
       "        vertical-align: middle;\n",
       "    }\n",
       "\n",
       "    .dataframe tbody tr th {\n",
       "        vertical-align: top;\n",
       "    }\n",
       "\n",
       "    .dataframe thead th {\n",
       "        text-align: right;\n",
       "    }\n",
       "</style>\n",
       "<table border=\"1\" class=\"dataframe\">\n",
       "  <thead>\n",
       "    <tr style=\"text-align: right;\">\n",
       "      <th></th>\n",
       "      <th># of arbitrage</th>\n",
       "      <th>total orders</th>\n",
       "      <th>% of arbitrage</th>\n",
       "    </tr>\n",
       "  </thead>\n",
       "  <tbody>\n",
       "    <tr>\n",
       "      <th>USDC</th>\n",
       "      <td>3.0</td>\n",
       "      <td>173.0</td>\n",
       "      <td>0.017341</td>\n",
       "    </tr>\n",
       "    <tr>\n",
       "      <th>BNB</th>\n",
       "      <td>1.0</td>\n",
       "      <td>3.0</td>\n",
       "      <td>0.333333</td>\n",
       "    </tr>\n",
       "  </tbody>\n",
       "</table>\n",
       "</div>"
      ],
      "text/plain": [
       "      # of arbitrage  total orders  % of arbitrage\n",
       "USDC             3.0         173.0        0.017341\n",
       "BNB              1.0           3.0        0.333333"
      ]
     },
     "execution_count": 16,
     "metadata": {},
     "output_type": "execute_result"
    }
   ],
   "source": [
    "df_WBTC"
   ]
  },
  {
   "cell_type": "markdown",
   "id": "11b66757",
   "metadata": {},
   "source": [
    "### Use BNB to buy following tokens low in 1inch and sell high at 0x"
   ]
  },
  {
   "cell_type": "code",
   "execution_count": 40,
   "id": "e77a5b10-bffb-4e6d-a57c-c21aafb7ddc7",
   "metadata": {},
   "outputs": [
    {
     "name": "stdout",
     "output_type": "stream",
     "text": [
      "CPU times: user 317 ms, sys: 31.6 ms, total: 349 ms\n",
      "Wall time: 10.3 s\n"
     ]
    }
   ],
   "source": [
    "%%time\n",
    "df_BNB.loc['USDC'] = arb(BNB, USDC, ethereum, limit)\n",
    "df_BNB.loc['USDT'] = arb(BNB, USDT, ethereum, limit)\n",
    "df_BNB.loc['WETH'] = arb(BNB, WETH, ethereum, limit)"
   ]
  },
  {
   "cell_type": "code",
   "execution_count": 41,
   "id": "4ac3ecc8-dc66-4562-9374-32e167e69687",
   "metadata": {},
   "outputs": [
    {
     "data": {
      "text/html": [
       "<div>\n",
       "<style scoped>\n",
       "    .dataframe tbody tr th:only-of-type {\n",
       "        vertical-align: middle;\n",
       "    }\n",
       "\n",
       "    .dataframe tbody tr th {\n",
       "        vertical-align: top;\n",
       "    }\n",
       "\n",
       "    .dataframe thead th {\n",
       "        text-align: right;\n",
       "    }\n",
       "</style>\n",
       "<table border=\"1\" class=\"dataframe\">\n",
       "  <thead>\n",
       "    <tr style=\"text-align: right;\">\n",
       "      <th></th>\n",
       "      <th># of arbitrage</th>\n",
       "      <th>total orders</th>\n",
       "      <th>% of arbitrage</th>\n",
       "    </tr>\n",
       "  </thead>\n",
       "  <tbody>\n",
       "    <tr>\n",
       "      <th>USDC</th>\n",
       "      <td>1.0</td>\n",
       "      <td>1.0</td>\n",
       "      <td>1.0</td>\n",
       "    </tr>\n",
       "    <tr>\n",
       "      <th>USDT</th>\n",
       "      <td>1.0</td>\n",
       "      <td>1.0</td>\n",
       "      <td>1.0</td>\n",
       "    </tr>\n",
       "    <tr>\n",
       "      <th>WETH</th>\n",
       "      <td>0.0</td>\n",
       "      <td>9.0</td>\n",
       "      <td>0.0</td>\n",
       "    </tr>\n",
       "  </tbody>\n",
       "</table>\n",
       "</div>"
      ],
      "text/plain": [
       "      # of arbitrage  total orders  % of arbitrage\n",
       "USDC             1.0           1.0             1.0\n",
       "USDT             1.0           1.0             1.0\n",
       "WETH             0.0           9.0             0.0"
      ]
     },
     "execution_count": 41,
     "metadata": {},
     "output_type": "execute_result"
    }
   ],
   "source": [
    "df_BNB"
   ]
  },
  {
   "cell_type": "markdown",
   "id": "183163af",
   "metadata": {},
   "source": [
    "### Use MATIC to buy following tokens low in 1inch and sell high at 0x"
   ]
  },
  {
   "cell_type": "code",
   "execution_count": 31,
   "id": "f48dd364-7066-441e-bc3d-089901874152",
   "metadata": {},
   "outputs": [
    {
     "name": "stdout",
     "output_type": "stream",
     "text": [
      "CPU times: user 98.1 ms, sys: 11.4 ms, total: 109 ms\n",
      "Wall time: 3.43 s\n"
     ]
    }
   ],
   "source": [
    "%%time\n",
    "df_MATIC.loc['USDC'] = arb(MATIC, USDC, ethereum, limit)"
   ]
  },
  {
   "cell_type": "code",
   "execution_count": 32,
   "id": "65b586ed-d191-48d0-8200-4820f094f344",
   "metadata": {},
   "outputs": [
    {
     "data": {
      "text/html": [
       "<div>\n",
       "<style scoped>\n",
       "    .dataframe tbody tr th:only-of-type {\n",
       "        vertical-align: middle;\n",
       "    }\n",
       "\n",
       "    .dataframe tbody tr th {\n",
       "        vertical-align: top;\n",
       "    }\n",
       "\n",
       "    .dataframe thead th {\n",
       "        text-align: right;\n",
       "    }\n",
       "</style>\n",
       "<table border=\"1\" class=\"dataframe\">\n",
       "  <thead>\n",
       "    <tr style=\"text-align: right;\">\n",
       "      <th></th>\n",
       "      <th># of arbitrage</th>\n",
       "      <th>total orders</th>\n",
       "      <th>% of arbitrage</th>\n",
       "    </tr>\n",
       "  </thead>\n",
       "  <tbody>\n",
       "    <tr>\n",
       "      <th>USDC</th>\n",
       "      <td>0.0</td>\n",
       "      <td>19.0</td>\n",
       "      <td>0.0</td>\n",
       "    </tr>\n",
       "  </tbody>\n",
       "</table>\n",
       "</div>"
      ],
      "text/plain": [
       "      # of arbitrage  total orders  % of arbitrage\n",
       "USDC             0.0          19.0             0.0"
      ]
     },
     "execution_count": 32,
     "metadata": {},
     "output_type": "execute_result"
    }
   ],
   "source": [
    "df_MATIC"
   ]
  },
  {
   "cell_type": "markdown",
   "id": "42234d08",
   "metadata": {},
   "source": [
    "### Use SHIBA to buy following tokens low in 1inch and sell high at 0x"
   ]
  },
  {
   "cell_type": "code",
   "execution_count": 29,
   "id": "389e4077-4f88-4d06-b92d-294993db7597",
   "metadata": {},
   "outputs": [
    {
     "name": "stdout",
     "output_type": "stream",
     "text": [
      "CPU times: user 115 ms, sys: 12.7 ms, total: 128 ms\n",
      "Wall time: 4.2 s\n"
     ]
    }
   ],
   "source": [
    "%%time\n",
    "df_SHIBA.loc['USDC'] = arb(SHIBA, USDC, ethereum, limit)"
   ]
  },
  {
   "cell_type": "code",
   "execution_count": 20,
   "id": "d4494a40-2010-4a3c-ae7d-a07b7c9b68db",
   "metadata": {},
   "outputs": [
    {
     "data": {
      "text/html": [
       "<div>\n",
       "<style scoped>\n",
       "    .dataframe tbody tr th:only-of-type {\n",
       "        vertical-align: middle;\n",
       "    }\n",
       "\n",
       "    .dataframe tbody tr th {\n",
       "        vertical-align: top;\n",
       "    }\n",
       "\n",
       "    .dataframe thead th {\n",
       "        text-align: right;\n",
       "    }\n",
       "</style>\n",
       "<table border=\"1\" class=\"dataframe\">\n",
       "  <thead>\n",
       "    <tr style=\"text-align: right;\">\n",
       "      <th></th>\n",
       "      <th># of arbitrage</th>\n",
       "      <th>total orders</th>\n",
       "      <th>% of arbitrage</th>\n",
       "    </tr>\n",
       "  </thead>\n",
       "  <tbody>\n",
       "    <tr>\n",
       "      <th>USDC</th>\n",
       "      <td>0.0</td>\n",
       "      <td>30.0</td>\n",
       "      <td>0.0</td>\n",
       "    </tr>\n",
       "  </tbody>\n",
       "</table>\n",
       "</div>"
      ],
      "text/plain": [
       "      # of arbitrage  total orders  % of arbitrage\n",
       "USDC             0.0          30.0             0.0"
      ]
     },
     "execution_count": 20,
     "metadata": {},
     "output_type": "execute_result"
    }
   ],
   "source": [
    "df_SHIBA"
   ]
  },
  {
   "cell_type": "markdown",
   "id": "19eef974",
   "metadata": {},
   "source": [
    "### Use USDC to buy following tokens low in 1inch and sell high at 0x"
   ]
  },
  {
   "cell_type": "code",
   "execution_count": 33,
   "id": "c4c9b358-ee30-4db1-be2d-660ccc6f0c67",
   "metadata": {},
   "outputs": [
    {
     "name": "stdout",
     "output_type": "stream",
     "text": [
      "CPU times: user 433 ms, sys: 44.1 ms, total: 477 ms\n",
      "Wall time: 15.7 s\n"
     ]
    }
   ],
   "source": [
    "%%time\n",
    "df_USDC.loc['WETH'] = arb(USDC, WETH, ethereum, limit)\n",
    "df_USDC.loc['WBTC'] = arb(USDC, WBTC, ethereum, limit)\n",
    "df_USDC.loc['BNB'] = arb(USDC, BNB, ethereum, limit)\n",
    "df_USDC.loc['SHIBA'] = arb(USDC, SHIBA, ethereum, limit)"
   ]
  },
  {
   "cell_type": "code",
   "execution_count": 34,
   "id": "5802ec6b-892b-4fcd-a1db-b9ce4c6281ea",
   "metadata": {},
   "outputs": [
    {
     "data": {
      "text/html": [
       "<div>\n",
       "<style scoped>\n",
       "    .dataframe tbody tr th:only-of-type {\n",
       "        vertical-align: middle;\n",
       "    }\n",
       "\n",
       "    .dataframe tbody tr th {\n",
       "        vertical-align: top;\n",
       "    }\n",
       "\n",
       "    .dataframe thead th {\n",
       "        text-align: right;\n",
       "    }\n",
       "</style>\n",
       "<table border=\"1\" class=\"dataframe\">\n",
       "  <thead>\n",
       "    <tr style=\"text-align: right;\">\n",
       "      <th></th>\n",
       "      <th># of arbitrage</th>\n",
       "      <th>total orders</th>\n",
       "      <th>% of arbitrage</th>\n",
       "    </tr>\n",
       "  </thead>\n",
       "  <tbody>\n",
       "    <tr>\n",
       "      <th>WETH</th>\n",
       "      <td>2.0</td>\n",
       "      <td>8.0</td>\n",
       "      <td>0.25</td>\n",
       "    </tr>\n",
       "    <tr>\n",
       "      <th>WBTC</th>\n",
       "      <td>0.0</td>\n",
       "      <td>4.0</td>\n",
       "      <td>0.00</td>\n",
       "    </tr>\n",
       "    <tr>\n",
       "      <th>BNB</th>\n",
       "      <td>1.0</td>\n",
       "      <td>5.0</td>\n",
       "      <td>0.20</td>\n",
       "    </tr>\n",
       "    <tr>\n",
       "      <th>SHIBA</th>\n",
       "      <td>0.0</td>\n",
       "      <td>475.0</td>\n",
       "      <td>0.00</td>\n",
       "    </tr>\n",
       "  </tbody>\n",
       "</table>\n",
       "</div>"
      ],
      "text/plain": [
       "       # of arbitrage  total orders  % of arbitrage\n",
       "WETH              2.0           8.0            0.25\n",
       "WBTC              0.0           4.0            0.00\n",
       "BNB               1.0           5.0            0.20\n",
       "SHIBA             0.0         475.0            0.00"
      ]
     },
     "execution_count": 34,
     "metadata": {},
     "output_type": "execute_result"
    }
   ],
   "source": [
    "df_USDC"
   ]
  },
  {
   "cell_type": "markdown",
   "id": "2912212a",
   "metadata": {},
   "source": [
    "### Use USDT to buy following tokens low in 1inch and sell high at 0x"
   ]
  },
  {
   "cell_type": "code",
   "execution_count": 39,
   "id": "f50a0c4b-ed2a-4452-9430-c651d5d2a02f",
   "metadata": {},
   "outputs": [
    {
     "name": "stdout",
     "output_type": "stream",
     "text": [
      "CPU times: user 209 ms, sys: 22.3 ms, total: 231 ms\n",
      "Wall time: 6.83 s\n"
     ]
    }
   ],
   "source": [
    "%%time\n",
    "df_USDT.loc['USDC'] = arb(USDT, USDC, ethereum, limit)\n",
    "df_USDT.loc['BNB'] = arb(USDT, BNB, ethereum, limit)"
   ]
  },
  {
   "cell_type": "code",
   "execution_count": 38,
   "id": "5626345b",
   "metadata": {},
   "outputs": [
    {
     "data": {
      "text/html": [
       "<div>\n",
       "<style scoped>\n",
       "    .dataframe tbody tr th:only-of-type {\n",
       "        vertical-align: middle;\n",
       "    }\n",
       "\n",
       "    .dataframe tbody tr th {\n",
       "        vertical-align: top;\n",
       "    }\n",
       "\n",
       "    .dataframe thead th {\n",
       "        text-align: right;\n",
       "    }\n",
       "</style>\n",
       "<table border=\"1\" class=\"dataframe\">\n",
       "  <thead>\n",
       "    <tr style=\"text-align: right;\">\n",
       "      <th></th>\n",
       "      <th># of arbitrage</th>\n",
       "      <th>total orders</th>\n",
       "      <th>% of arbitrage</th>\n",
       "    </tr>\n",
       "  </thead>\n",
       "  <tbody>\n",
       "    <tr>\n",
       "      <th>USDC</th>\n",
       "      <td>2.0</td>\n",
       "      <td>7.0</td>\n",
       "      <td>0.285714</td>\n",
       "    </tr>\n",
       "    <tr>\n",
       "      <th>BNB</th>\n",
       "      <td>0.0</td>\n",
       "      <td>5.0</td>\n",
       "      <td>0.000000</td>\n",
       "    </tr>\n",
       "  </tbody>\n",
       "</table>\n",
       "</div>"
      ],
      "text/plain": [
       "      # of arbitrage  total orders  % of arbitrage\n",
       "USDC             2.0           7.0        0.285714\n",
       "BNB              0.0           5.0        0.000000"
      ]
     },
     "execution_count": 38,
     "metadata": {},
     "output_type": "execute_result"
    }
   ],
   "source": [
    "df_USDT"
   ]
  },
  {
   "cell_type": "markdown",
   "id": "10611fe6",
   "metadata": {},
   "source": [
    "### Use DAI to buy following tokens low in 1inch and sell high at 0x"
   ]
  },
  {
   "cell_type": "code",
   "execution_count": 35,
   "id": "d20eec79-6f35-4360-8c1f-b5147d352ae0",
   "metadata": {},
   "outputs": [
    {
     "name": "stdout",
     "output_type": "stream",
     "text": [
      "CPU times: user 207 ms, sys: 26.5 ms, total: 234 ms\n",
      "Wall time: 7.15 s\n"
     ]
    }
   ],
   "source": [
    "%%time\n",
    "df_DAI.loc['USDC'] = arb(DAI, USDC, ethereum, limit)\n",
    "df_DAI.loc['BNB'] = arb(DAI, BNB, ethereum, limit)"
   ]
  },
  {
   "cell_type": "code",
   "execution_count": 36,
   "id": "4f008db5-2b81-410e-98be-3f0ec163f86c",
   "metadata": {},
   "outputs": [
    {
     "data": {
      "text/html": [
       "<div>\n",
       "<style scoped>\n",
       "    .dataframe tbody tr th:only-of-type {\n",
       "        vertical-align: middle;\n",
       "    }\n",
       "\n",
       "    .dataframe tbody tr th {\n",
       "        vertical-align: top;\n",
       "    }\n",
       "\n",
       "    .dataframe thead th {\n",
       "        text-align: right;\n",
       "    }\n",
       "</style>\n",
       "<table border=\"1\" class=\"dataframe\">\n",
       "  <thead>\n",
       "    <tr style=\"text-align: right;\">\n",
       "      <th></th>\n",
       "      <th># of arbitrage</th>\n",
       "      <th>total orders</th>\n",
       "      <th>% of arbitrage</th>\n",
       "    </tr>\n",
       "  </thead>\n",
       "  <tbody>\n",
       "    <tr>\n",
       "      <th>USDC</th>\n",
       "      <td>0.0</td>\n",
       "      <td>3.0</td>\n",
       "      <td>0.00</td>\n",
       "    </tr>\n",
       "    <tr>\n",
       "      <th>BNB</th>\n",
       "      <td>1.0</td>\n",
       "      <td>4.0</td>\n",
       "      <td>0.25</td>\n",
       "    </tr>\n",
       "  </tbody>\n",
       "</table>\n",
       "</div>"
      ],
      "text/plain": [
       "      # of arbitrage  total orders  % of arbitrage\n",
       "USDC             0.0           3.0            0.00\n",
       "BNB              1.0           4.0            0.25"
      ]
     },
     "execution_count": 36,
     "metadata": {},
     "output_type": "execute_result"
    }
   ],
   "source": [
    "df_DAI"
   ]
  },
  {
   "cell_type": "code",
   "execution_count": 8,
   "id": "078465a1",
   "metadata": {},
   "outputs": [
    {
     "data": {
      "text/plain": [
       "Text(0.5, 1.0, 'Arbitrage Ratio Distribution')"
      ]
     },
     "execution_count": 8,
     "metadata": {},
     "output_type": "execute_result"
    },
    {
     "data": {
      "image/png": "[encoded data removed]",
      "text/plain": [
       "<Figure size 432x288 with 1 Axes>"
      ]
     },
     "metadata": {
      "needs_background": "light"
     },
     "output_type": "display_data"
    }
   ],
   "source": [
    "dist=[0.022000, 0.032558, 0.111111, 0.181818, 0.051429, 0.333333, 1.0, 1.0, 0.0, 0.05, 0.032258, 0.25, 0.00, 0.20, 0.00, 0.222222, 0.000000, 0.00, 0.25]\n",
    "plt.subplot().hist(dist, bins=10)\n",
    "plt.xlabel('Arbitrage Ratio (valid orders/total orders)')\n",
    "plt.ylabel('Total Abritrages')\n",
    "plt.title('Arbitrage Ratio Distribution')"
   ]
  },
  {
   "cell_type": "code",
   "execution_count": null,
   "id": "e1a75534",
   "metadata": {},
   "outputs": [],
   "source": []
  }
 ],
 "metadata": {
  "interpreter": {
   "hash": "31f2aee4e71d21fbe5cf8b01ff0e069b9275f58929596ceb00d14d90e3e16cd6"
  },
  "kernelspec": {
   "display_name": "Python 3.8.9 64-bit",
   "language": "python",
   "name": "python3"
  },
  "language_info": {
   "codemirror_mode": {
    "name": "ipython",
    "version": 3
   },
   "file_extension": ".py",
   "mimetype": "text/x-python",
   "name": "python",
   "nbconvert_exporter": "python",
   "pygments_lexer": "ipython3",
   "version": "3.8.9"
  }
 },
 "nbformat": 4,
 "nbformat_minor": 5
}
